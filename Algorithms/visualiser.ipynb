{
 "cells": [
  {
   "cell_type": "markdown",
   "id": "32714619",
   "metadata": {},
   "source": [
    "## **A Notebook to Display Algoithm Performance**"
   ]
  },
  {
   "cell_type": "code",
   "execution_count": 1,
   "id": "31e8cff9",
   "metadata": {},
   "outputs": [],
   "source": [
    "# Import the Data\n",
    "from test_runner import *"
   ]
  },
  {
   "cell_type": "code",
   "execution_count": 2,
   "id": "d6ad62a9",
   "metadata": {},
   "outputs": [
    {
     "name": "stderr",
     "output_type": "stream",
     "text": [
      "/home/busatmd021/projects/Personal/Santoshi-Shores/Algorithms/round_3_offical.py:538: RuntimeWarning: divide by zero encountered in scalar divide\n",
      "  sigma -= diff / vega\n",
      "/home/busatmd021/projects/Personal/Santoshi-Shores/Algorithms/round_3_offical.py:524: RuntimeWarning: divide by zero encountered in log\n",
      "  d1 = (np.log(S / K) + (r + 0.5 * self.sigma**2) * tau) / (self.sigma * math.sqrt(tau))\n",
      "/home/busatmd021/projects/Personal/Santoshi-Shores/Algorithms/round_3_offical.py:527: RuntimeWarning: invalid value encountered in scalar multiply\n",
      "  call_price = S * delta - K * math.exp(-r * tau) * norm.cdf(d2)\n"
     ]
    },
    {
     "ename": "OverflowError",
     "evalue": "int too large to convert to float",
     "output_type": "error",
     "traceback": [
      "\u001b[0;31m---------------------------------------------------------------------------\u001b[0m",
      "\u001b[0;31mOverflowError\u001b[0m                             Traceback (most recent call last)",
      "Cell \u001b[0;32mIn[2], line 2\u001b[0m\n\u001b[1;32m      1\u001b[0m \u001b[38;5;66;03m# Run the Model\u001b[39;00m\n\u001b[0;32m----> 2\u001b[0m combined_ts, combined_pnl \u001b[38;5;241m=\u001b[39m \u001b[43mrun_test\u001b[49m\u001b[43m(\u001b[49m\u001b[43m)\u001b[49m\n",
      "File \u001b[0;32m~/projects/Personal/Santoshi-Shores/Algorithms/test_runner.py:126\u001b[0m, in \u001b[0;36mrun_test\u001b[0;34m()\u001b[0m\n\u001b[1;32m    124\u001b[0m orderbook_data0 \u001b[38;5;241m=\u001b[39m load_order_book_data(\u001b[38;5;124m\"\u001b[39m\u001b[38;5;124mPerformance Data/Historic Data/prices_round_3_day_0.csv\u001b[39m\u001b[38;5;124m\"\u001b[39m)\n\u001b[1;32m    125\u001b[0m trade_data0 \u001b[38;5;241m=\u001b[39m load_trade_data(\u001b[38;5;124m\"\u001b[39m\u001b[38;5;124mPerformance Data/Historic Data/trades_round_3_day_0.csv\u001b[39m\u001b[38;5;124m\"\u001b[39m)\n\u001b[0;32m--> 126\u001b[0m pnl0, final_position0, ts0, pnl_over_time0 \u001b[38;5;241m=\u001b[39m \u001b[43mrun_backtest\u001b[49m\u001b[43m(\u001b[49m\u001b[43morderbook_data0\u001b[49m\u001b[43m,\u001b[49m\u001b[43m \u001b[49m\u001b[43mtrade_data0\u001b[49m\u001b[43m)\u001b[49m\n\u001b[1;32m    128\u001b[0m orderbook_data1 \u001b[38;5;241m=\u001b[39m load_order_book_data(\u001b[38;5;124m\"\u001b[39m\u001b[38;5;124mPerformance Data/Historic Data/prices_round_3_day_1.csv\u001b[39m\u001b[38;5;124m\"\u001b[39m)\n\u001b[1;32m    129\u001b[0m trade_data1 \u001b[38;5;241m=\u001b[39m load_trade_data(\u001b[38;5;124m\"\u001b[39m\u001b[38;5;124mPerformance Data/Historic Data/trades_round_3_day_1.csv\u001b[39m\u001b[38;5;124m\"\u001b[39m)\n",
      "File \u001b[0;32m~/projects/Personal/Santoshi-Shores/Algorithms/test_runner.py:107\u001b[0m, in \u001b[0;36mrun_backtest\u001b[0;34m(orderbook_data, trade_data)\u001b[0m\n\u001b[1;32m    104\u001b[0m     \u001b[38;5;28;01mcontinue\u001b[39;00m\n\u001b[1;32m    105\u001b[0m \u001b[38;5;28;01mif\u001b[39;00m order\u001b[38;5;241m.\u001b[39mquantity \u001b[38;5;241m>\u001b[39m \u001b[38;5;241m0\u001b[39m:\n\u001b[1;32m    106\u001b[0m     \u001b[38;5;66;03m# Buy\u001b[39;00m\n\u001b[0;32m--> 107\u001b[0m     pnl[product] \u001b[38;5;241m-\u001b[39m\u001b[38;5;241m=\u001b[39m price \u001b[38;5;241m*\u001b[39m volume\n\u001b[1;32m    108\u001b[0m     position[product] \u001b[38;5;241m+\u001b[39m\u001b[38;5;241m=\u001b[39m volume\n\u001b[1;32m    109\u001b[0m \u001b[38;5;28;01melse\u001b[39;00m:\n\u001b[1;32m    110\u001b[0m     \u001b[38;5;66;03m# Sell\u001b[39;00m\n",
      "\u001b[0;31mOverflowError\u001b[0m: int too large to convert to float"
     ]
    }
   ],
   "source": [
    "# Run the Model\n",
    "combined_ts, combined_pnl = run_test()"
   ]
  },
  {
   "cell_type": "code",
   "execution_count": null,
   "id": "541a2679",
   "metadata": {},
   "outputs": [],
   "source": [
    "# Visualise the Model\n",
    "plt.figure(figsize=(12, 6))\n",
    "plt.plot(combined_ts, combined_pnl, label=\"Cumulative PnL\", color=\"blue\")\n",
    "plt.xlabel(\"Timestamp\")\n",
    "plt.ylabel(\"PnL (seashells)\")\n",
    "plt.title(\"Cumulative Profit and Loss Over Time\")\n",
    "plt.grid(True)\n",
    "plt.legend()\n",
    "plt.tight_layout()\n",
    "plt.show()"
   ]
  }
 ],
 "metadata": {
  "kernelspec": {
   "display_name": "venv310",
   "language": "python",
   "name": "python3"
  },
  "language_info": {
   "codemirror_mode": {
    "name": "ipython",
    "version": 3
   },
   "file_extension": ".py",
   "mimetype": "text/x-python",
   "name": "python",
   "nbconvert_exporter": "python",
   "pygments_lexer": "ipython3",
   "version": "3.10.17"
  }
 },
 "nbformat": 4,
 "nbformat_minor": 5
}
