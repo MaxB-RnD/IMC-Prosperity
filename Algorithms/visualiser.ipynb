{
 "cells": [
  {
   "cell_type": "markdown",
   "id": "32714619",
   "metadata": {},
   "source": [
    "## **A Notebook to Display Algoithm Performance**"
   ]
  },
  {
   "cell_type": "code",
   "execution_count": null,
   "id": "31e8cff9",
   "metadata": {},
   "outputs": [],
   "source": [
    "# Import the Data\n",
    "from test_runner import *"
   ]
  },
  {
   "cell_type": "code",
   "execution_count": null,
   "id": "d6ad62a9",
   "metadata": {},
   "outputs": [],
   "source": [
    "# Run the Model\n",
    "combined_ts, combined_pnl = run_test()"
   ]
  },
  {
   "cell_type": "code",
   "execution_count": null,
   "id": "541a2679",
   "metadata": {},
   "outputs": [],
   "source": [
    "# Visualise the Model\n",
    "plt.figure(figsize=(12, 6))\n",
    "plt.plot(combined_ts, combined_pnl, label=\"Cumulative PnL\", color=\"blue\")\n",
    "plt.xlabel(\"Timestamp\")\n",
    "plt.ylabel(\"PnL (seashells)\")\n",
    "plt.title(\"Cumulative Profit and Loss Over Time\")\n",
    "plt.grid(True)\n",
    "plt.legend()\n",
    "plt.tight_layout()\n",
    "plt.show()"
   ]
  }
 ],
 "metadata": {
  "kernelspec": {
   "display_name": "Python 3",
   "language": "python",
   "name": "python3"
  },
  "language_info": {
   "codemirror_mode": {
    "name": "ipython",
    "version": 3
   },
   "file_extension": ".py",
   "mimetype": "text/x-python",
   "name": "python",
   "nbconvert_exporter": "python",
   "pygments_lexer": "ipython3",
   "version": "3.12.3"
  }
 },
 "nbformat": 4,
 "nbformat_minor": 5
}
